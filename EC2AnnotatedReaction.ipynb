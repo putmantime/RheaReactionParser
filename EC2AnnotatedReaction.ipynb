{
 "cells": [
  {
   "cell_type": "code",
   "execution_count": 142,
   "metadata": {
    "collapsed": true
   },
   "outputs": [],
   "source": [
    "import csv\n",
    "from pprint import pprint\n",
    "from lxml import etree\n",
    "from collections import defaultdict\n",
    "import gzip\n",
    "import urllib.request"
   ]
  },
  {
   "cell_type": "code",
   "execution_count": 159,
   "metadata": {
    "collapsed": true
   },
   "outputs": [],
   "source": [
    "class ParseBioPax(object):\n",
    "    \"\"\"\n",
    "    Parses Rhea's BioPax file to facilate parsing as xml in Python\n",
    "    input: BioPax file path\n",
    "    return: xml object root as self.root, functions for gathering reactions and participants.\n",
    "    \"\"\"\n",
    "    namespaces = {\n",
    "        'bp': \"http://www.biopax.org/release/biopax-level2.owl#\",\n",
    "        'rhea': \"http://www.ebi.ac.uk/rhea#\",\n",
    "        'rdf': \"http://www.w3.org/1999/02/22-rdf-syntax-ns#\",\n",
    "        'owl': \"http://www.w3.org/2002/07/owl#\",\n",
    "        'base':\"http://www.ebi.ac.uk/rhea#\",\n",
    "        'xsd': \"http://www.w3.org/2001/XMLSchema#\"    \n",
    "    }\n",
    "    \n",
    "    def __init__(self, biopax_path=None, ec2rhea_path=None, download_files=False):\n",
    "        self.biopax_path = biopax_path\n",
    "        self.ec2rhea_path = ec2rhea_path\n",
    "        if download_files:\n",
    "            self.download_ftp_files()\n",
    "        self.root = self.parse_bio_pax()\n",
    "        \n",
    "    def download_ftp_files(self):        \n",
    "        biopaxFTP = 'ftp://ftp.ebi.ac.uk/pub/databases/rhea/biopax/rhea-biopax_lite.owl.gz'\n",
    "        urllib.request.urlretrieve(biopaxFTP, self.biopax_path)\n",
    "        ec2rheaFTP = 'ftp://ftp.ebi.ac.uk/pub/databases/rhea/tsv/rhea2ec.tsv'\n",
    "        urllib.request.urlretrieve(ec2rheaFTP, self.ec2rhea_path)\n",
    "        \n",
    "    def ec_2_rhea_map(self):\n",
    "        \"\"\"\n",
    "        returns dictionary with ecnumber key and list of rhea master ids as the values\n",
    "        \"\"\"\n",
    "        ecmap = {}\n",
    "        with open(self.ec2rhea_path, 'r') as ec2r:\n",
    "            csvfile = csv.reader(ec2r, delimiter=\"\\t\")\n",
    "            fieldnames = next(csvfile)\n",
    "            d = defaultdict(list)\n",
    "            for line in csvfile:\n",
    "                if len(line) ==  4:\n",
    "                    d[line[3]].append(line[2])\n",
    "            return d\n",
    "        \n",
    "    def parse_bio_pax(self):\n",
    "        \"\"\"\n",
    "        create root lxml object\n",
    "        \"\"\"\n",
    "        tree = etree.parse(self.biopax_path)\n",
    "        return tree.getroot()"
   ]
  },
  {
   "cell_type": "code",
   "execution_count": 160,
   "metadata": {},
   "outputs": [],
   "source": [
    "class ParseBioPaxReaction(object): \n",
    "    \"\"\"\n",
    "    Parse BioPax Reaction from Rhea\n",
    "    input: <BP_object>: the root BioPax lxml object from class ParseBioPax\n",
    "            <ec_number>: the ec number of the reaction\n",
    "            <download files> default is False.  Change to True if the files need to be downloaded\n",
    "    return: python dictionary of annotated reaction\n",
    "    e.g.:\n",
    "        {\n",
    "        'ec_number': '3.1.7.9',\n",
    "        'name': 'H2O + tuberculosinyl diphosphate <?> (13R)-edaxadiene + diphosphate',\n",
    "        'products': ['6953', '2106'],\n",
    "        'reactants': ['5701', '1283']\n",
    "        }\n",
    "    \"\"\"\n",
    "    \n",
    "    namespaces = {\n",
    "        'bp': \"http://www.biopax.org/release/biopax-level2.owl#\",\n",
    "        'rhea': \"http://www.ebi.ac.uk/rhea#\",\n",
    "        'rdf': \"http://www.w3.org/1999/02/22-rdf-syntax-ns#\",\n",
    "        'owl': \"http://www.w3.org/2002/07/owl#\",\n",
    "        'base':\"http://www.ebi.ac.uk/rhea#\",\n",
    "        'xsd': \"http://www.w3.org/2001/XMLSchema#\"    \n",
    "    }\n",
    "    \n",
    "    def __init__(self, BP_Object, ec_number):\n",
    "        self.ec_number = ec_number\n",
    "        self.root = BP_Object\n",
    "        self.reaction = None\n",
    "        self.rxn = {\n",
    "            'ec_number': ec_number,\n",
    "            'reactants': [],\n",
    "            'products': [],\n",
    "        } \n",
    "        \n",
    "    def get_reaction_by_rhea(self, rheaID):\n",
    "        \"\"\"\n",
    "        get reaction element object from lxlm root using rheaID\n",
    "        input: rhea master Id\n",
    "        return: reaction elemement\n",
    "        \"\"\"\n",
    "        query = \"bp:biochemicalReaction[@{%s}about='http://identifiers.org/rhea/%s']\" % (ParseBioPaxReaction.namespaces['rdf'], rheaID)\n",
    "        self.reaction = self.root.findall(query, ParseBioPaxReaction.namespaces)[0]\n",
    "    \n",
    "    def gather_participants(self, participant):\n",
    "        \"\"\"\n",
    "        Get chebi id of participant\n",
    "        input: <participant> participant element from BioPax lxml \n",
    "        return chebi id\n",
    "        \"\"\"\n",
    "        \n",
    "        # retrieve phisicalEntityParticipant\n",
    "        query ='bp:physicalEntityParticipant[@rdf:about=\"{}\"]'.format(participant)\n",
    "        part = self.root.find(query, ParseBioPaxReaction.namespaces)\n",
    "        \n",
    "        # retrieve PHISICAL-ENTITY predicate\n",
    "        entity = part.find('bp:PHYSICAL-ENTITY', ParseBioPaxReaction.namespaces)\n",
    "        query2 = 'bp:physicalEntity[@rdf:about=\"{}\"]'.format(entity.attrib.values()[0])\n",
    "        chebi = self.root.find(query2, ParseBioPaxReaction.namespaces)\n",
    "        # get xref purl to retrieve chebi id\n",
    "        xref = chebi.find('bp:XREF', ParseBioPaxReaction.namespaces).attrib.values()[0]\n",
    "        \n",
    "        # retrieve chebi id\n",
    "        query3 = 'bp:unificationXref[@rdf:about=\"{}\"]'.format(xref)\n",
    "        chebi_out = self.root.find(query3, ParseBioPaxReaction.namespaces).find('bp:ID', ParseBioPaxReaction.namespaces).text\n",
    "        return chebi_out\n",
    "        \n",
    "    def parse_reactants(self):\n",
    "        \"\"\"\n",
    "        find all reactants for reaction element (self.reaction) and use self.gather participants to retrieve chebi id\n",
    "        return: appends chebi id of reactant to self.rxn['reactants]\n",
    "        \"\"\"\n",
    "        left_side = self.reaction.findall('bp:LEFT', ParseBioPaxReaction.namespaces)\n",
    "        for left in left_side:\n",
    "            self.rxn['reactants'].append(self.gather_participants(participant=left.attrib.values()[0]))\n",
    "        \n",
    "    def parse_products(self):\n",
    "        \"\"\"\n",
    "        find all products for reaction element (self.reaction) and use self.gather participants to retrieve chebi id\n",
    "        return: appends chebi id of product to self.rxn['reactants]\n",
    "        \"\"\"\n",
    "        right_side = self.reaction.findall('bp:RIGHT', ParseBioPaxReaction.namespaces)\n",
    "        for right in right_side:\n",
    "            self.rxn['products'].append(self.gather_participants(participant=right.attrib.values()[0]))\n",
    "     \n",
    "    def reaction_name(self):\n",
    "        \"\"\"\n",
    "        get name of self.reaction and add to self.rxn\n",
    "        \"\"\"\n",
    "        names = (self.reaction.findall('bp:NAME', ParseBioPaxReaction.namespaces))\n",
    "        self.rxn['name'] = names[0].text"
   ]
  },
  {
   "cell_type": "code",
   "execution_count": 161,
   "metadata": {},
   "outputs": [],
   "source": [
    "biopax_obj = ParseBioPax(biopax_path='rhea-biopax_lite.owl.gz', ec2rhea_path='rhea2ec.tsv', download_files=False)"
   ]
  },
  {
   "cell_type": "code",
   "execution_count": 162,
   "metadata": {},
   "outputs": [],
   "source": [
    "ec_numbers = biopax_obj.ec_2_rhea_map()"
   ]
  },
  {
   "cell_type": "code",
   "execution_count": 163,
   "metadata": {},
   "outputs": [
    {
     "name": "stdout",
     "output_type": "stream",
     "text": [
      "{'ec_number': '2.1.1.157',\n",
      " 'name': 'N,N-dimethylglycine + S-adenosyl-L-methionine <?> '\n",
      "         'S-adenosyl-L-homocysteine + betaine + H(+)',\n",
      " 'products': ['CHEBI:17750', 'CHEBI:57856', 'CHEBI:15378'],\n",
      " 'reactants': ['CHEBI:59789', 'CHEBI:58251']}\n",
      "{'ec_number': '2.1.1.157',\n",
      " 'name': 'S-adenosyl-L-methionine + sarcosine <?> N,N-dimethylglycine + '\n",
      "         'S-adenosyl-L-homocysteine + H(+)',\n",
      " 'products': ['CHEBI:57856', 'CHEBI:58251', 'CHEBI:15378'],\n",
      " 'reactants': ['CHEBI:57433', 'CHEBI:59789']}\n",
      "{'ec_number': '2.1.1.157',\n",
      " 'name': '2 S-adenosyl-L-methionine + sarcosine <?> 2 '\n",
      "         'S-adenosyl-L-homocysteine + betaine + 2 H(+)',\n",
      " 'products': ['CHEBI:57856', 'CHEBI:15378', 'CHEBI:17750'],\n",
      " 'reactants': ['CHEBI:57433', 'CHEBI:59789']}\n"
     ]
    }
   ],
   "source": [
    "count = 0\n",
    "for ec, rhea_list in ec_numbers.items():\n",
    "    count += 1\n",
    "    if count == 2:\n",
    "        for rhea in rhea_list:\n",
    "            reaction_obj = ParseBioPaxReaction(BP_Object=biopax_obj.root, ec_number=ec)\n",
    "            reaction = reaction_obj.get_reaction_by_rhea(rheaID=rhea)\n",
    "            products = reaction_obj.parse_products()\n",
    "            reactants = reaction_obj.parse_reactants()\n",
    "            name = reaction_obj.reaction_name()\n",
    "            pprint(reaction_obj.rxn)\n",
    "       \n",
    "        "
   ]
  },
  {
   "cell_type": "code",
   "execution_count": null,
   "metadata": {
    "collapsed": true
   },
   "outputs": [],
   "source": []
  },
  {
   "cell_type": "code",
   "execution_count": null,
   "metadata": {
    "collapsed": true
   },
   "outputs": [],
   "source": []
  },
  {
   "cell_type": "code",
   "execution_count": null,
   "metadata": {
    "collapsed": true
   },
   "outputs": [],
   "source": []
  }
 ],
 "metadata": {
  "kernelspec": {
   "display_name": "Python 3",
   "language": "python",
   "name": "python3"
  },
  "language_info": {
   "codemirror_mode": {
    "name": "ipython",
    "version": 3
   },
   "file_extension": ".py",
   "mimetype": "text/x-python",
   "name": "python",
   "nbconvert_exporter": "python",
   "pygments_lexer": "ipython3",
   "version": "3.5.1"
  }
 },
 "nbformat": 4,
 "nbformat_minor": 2
}
