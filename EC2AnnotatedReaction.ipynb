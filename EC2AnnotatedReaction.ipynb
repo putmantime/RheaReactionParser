{
 "cells": [
  {
   "cell_type": "code",
   "execution_count": 1,
   "metadata": {
    "collapsed": true
   },
   "outputs": [],
   "source": [
    "import json\n",
    "import urllib.request\n",
    "from pymongo import MongoClient\n",
    "import csv\n",
    "import requests\n",
    "from pprint import pprint\n",
    "import xmltodict"
   ]
  },
  {
   "cell_type": "code",
   "execution_count": 5,
   "metadata": {
    "collapsed": true
   },
   "outputs": [],
   "source": [
    "class parseRheaReactions(object):\n",
    "    \n",
    "    def __init__(self, ec_number=None):\n",
    "        self.client = MongoClient()\n",
    "        self.rheadDB = self.client.rheaDB\n",
    "        self.rhea2ec_collection = self.rheadDB.rhea2EC\n",
    "        self.ec_number = ec_number\n",
    "        self.rhea_masters = self.ec2rhea_trlst()\n",
    "        self.endpoint = 'ftp://ftp.ebi.ac.uk/pub/databases/rhea/'\n",
    "        self.restEndpoint = 'http://www.rhea-db.org/rest/1.0/ws/reaction/cmlreact/'\n",
    "        \n",
    "    def get_rhea_ec_tsv_data(self):\n",
    "        \"\"\"\n",
    "        retrieve ec rhea mapping\n",
    "        return populate mongo collection with ec 2 rhea mapping \n",
    "        \"\"\"\n",
    "        self.rhea2ec_collection.delete_many({})\n",
    "        ec_path = 'tsv/rhea2ec.tsv'    \n",
    "        ec2rhea = urllib.request.urlretrieve(self.endpoint + ec_path)\n",
    "        with open(ec2rhea[0]) as ec:\n",
    "            csvfile = csv.reader(ec, delimiter=\"\\t\")\n",
    "            fieldnames = next(csvfile)\n",
    "            rheaECList = []\n",
    "            for line in csvfile:\n",
    "                rhea2ec = dict(zip(fieldnames, line))\n",
    "                rheaECList.append(rhea2ec)\n",
    "        insert = self.rhea2ec_collection.insert_many(rheaECList)\n",
    "        return len(insert.inserted_ids)\n",
    "    \n",
    "    def ec2rhea_trlst(self):\n",
    "        \"\"\"\n",
    "        input ec_number\n",
    "        return list of rhea master ids \n",
    "        \"\"\"\n",
    "        cursor = self.rhea2ec_collection.find({'ID': self.ec_number})\n",
    "        rheaMasterIDs = []\n",
    "        for i in cursor:\n",
    "            rheaMasterIDs.append(i['MASTER_ID'])\n",
    "        return rheaMasterIDs\n",
    "\n",
    "    def rhea2reaction(self):\n",
    "        \"\"\"\n",
    "        input rhea master_id\n",
    "        return parsed JSON reaction document\n",
    "        \"\"\"\n",
    "        for id in self.rhea_masters: \n",
    "            url = self.restEndpoint + id\n",
    "            r = requests.get(url=url)\n",
    "            reactionDICT = xmltodict.parse(r.text)\n",
    "            parsed = json.loads(json.dumps(reactionDICT))\n",
    "                     \n",
    "            parsed_reaction = {\n",
    "            'rheaId': parsed['reaction']['@title'],\n",
    "            'ec_number': self.ec_number,\n",
    "            'reactants': [],\n",
    "            'products': []\n",
    "            }\n",
    "\n",
    "            reactants = parsed['reaction']['reactantList']\n",
    "  \n",
    "            if isinstance(reactants['reactant'], dict):\n",
    "                parsed_reaction['reactants'].append({\n",
    "                    'name': reactants['reactant']['molecule']['name'],\n",
    "                    'chebi': reactants['reactant']['molecule']['identifier']['@value']\n",
    "                })\n",
    "            else:\n",
    "                for reactant in reactants['reactant']:\n",
    "                    parsed_reaction['reactants'].append({\n",
    "                    'name': reactant['molecule']['name'],\n",
    "                    'chebi': reactant['molecule']['identifier']['@value']\n",
    "                })\n",
    "                    \n",
    "            products = parsed['reaction']['productList']\n",
    "  \n",
    "            if isinstance(products['product'], dict):\n",
    "                parsed_reaction['products'].append({\n",
    "                    'name': products['product']['molecule']['name'],\n",
    "                    'chebi': products['product']['molecule']['identifier']['@value']\n",
    "                })\n",
    "            else:\n",
    "                for product in products['product']:\n",
    "                    parsed_reaction['products'].append({\n",
    "                    'name': product['molecule']['name'],\n",
    "                    'chebi': product['molecule']['identifier']['@value']\n",
    "                })\n",
    "                    \n",
    "            return parsed_reaction\n",
    "        \n",
    "        \n",
    "            "
   ]
  },
  {
   "cell_type": "code",
   "execution_count": 6,
   "metadata": {
    "collapsed": true
   },
   "outputs": [],
   "source": [
    "rhea = parseRheaReactions(ec_number='4.1.99.1')"
   ]
  },
  {
   "cell_type": "code",
   "execution_count": 7,
   "metadata": {},
   "outputs": [
    {
     "data": {
      "text/plain": [
       "{'ec_number': '4.1.99.1',\n",
       " 'products': [{'chebi': 'CHEBI:16881', 'name': 'indole'},\n",
       "  {'chebi': 'CHEBI:28938', 'name': 'NH4(+)'},\n",
       "  {'chebi': 'CHEBI:15361', 'name': 'pyruvate'}],\n",
       " 'reactants': [{'chebi': 'CHEBI:57912', 'name': 'L-tryptophan'},\n",
       "  {'chebi': 'CHEBI:15377', 'name': 'H2O'}],\n",
       " 'rheaId': 'RHEA:19553'}"
      ]
     },
     "execution_count": 7,
     "metadata": {},
     "output_type": "execute_result"
    }
   ],
   "source": [
    "rhea.rhea2reaction()"
   ]
  },
  {
   "cell_type": "code",
   "execution_count": null,
   "metadata": {
    "collapsed": true
   },
   "outputs": [],
   "source": []
  },
  {
   "cell_type": "code",
   "execution_count": null,
   "metadata": {
    "collapsed": true
   },
   "outputs": [],
   "source": []
  },
  {
   "cell_type": "code",
   "execution_count": null,
   "metadata": {
    "collapsed": true
   },
   "outputs": [],
   "source": []
  },
  {
   "cell_type": "code",
   "execution_count": null,
   "metadata": {
    "collapsed": true
   },
   "outputs": [],
   "source": []
  },
  {
   "cell_type": "code",
   "execution_count": null,
   "metadata": {
    "collapsed": true
   },
   "outputs": [],
   "source": []
  }
 ],
 "metadata": {
  "kernelspec": {
   "display_name": "Python 3",
   "language": "python",
   "name": "python3"
  },
  "language_info": {
   "codemirror_mode": {
    "name": "ipython",
    "version": 3
   },
   "file_extension": ".py",
   "mimetype": "text/x-python",
   "name": "python",
   "nbconvert_exporter": "python",
   "pygments_lexer": "ipython3",
   "version": "3.5.1"
  }
 },
 "nbformat": 4,
 "nbformat_minor": 2
}
